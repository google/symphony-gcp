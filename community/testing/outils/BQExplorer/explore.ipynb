{
 "cells": [
  {
   "cell_type": "code",
   "execution_count": 46,
   "id": "963024d5",
   "metadata": {},
   "outputs": [],
   "source": [
    "from google.cloud import logging\n",
    "import datetime\n",
    "import json\n",
    "import pandas as pd\n",
    "\n",
    "from importlib import reload\n",
    "\n",
    "\n",
    "import src.log_queries as queries\n",
    "import src.transforms as transforms\n",
    "\n",
    "reload(queries)\n",
    "reload(transforms)\n",
    "\n",
    "from src.log_queries import (\n",
    "    CREATE_PODS,\n",
    "    SCALE_UP_DECISION,\n",
    "    NODE_READY,\n",
    "    NODE_READY_PATCH,\n",
    "    POD_SCHEDULED,\n",
    "    CONTAINER_STARTED_PATCH,\n",
    "    CONTAINER_STARTED,\n",
    "    DELETE_PODS,\n",
    "    SCALE_DOWN_DECISION,\n",
    "    NODE_CORDONED,\n",
    "    NODE_NOT_READY,\n",
    "    NODE_DELETED,\n",
    "    NODES_CREATE,\n",
    "    NODES_DELETE\n",
    ")\n",
    "\n",
    "from src.transforms import (\n",
    "    AdvancedDotDict,\n",
    "    create_pods as create_pods_transform,\n",
    "    container_started as container_started_transform,\n",
    "    pod_scheduled as pod_scheduled_transform,\n",
    "    nodes_delete as nodes_delete_transform,\n",
    "    nodes_create as nodes_create_transform,\n",
    "    node_ready_patch as node_ready_patch_transform\n",
    ")\n",
    "# Create a logging client\n",
    "client = logging.Client()\n",
    "\n",
    "PROJECT_ID = \"symphony-dev-2\"\n",
    "TARGET_CLUSTER = \"cluster-test-0\"\n",
    "\n",
    "\n",
    "# Set maximum width for table view\n",
    "pd.set_option('max_colwidth', 60)\n",
    "# Set maximum rows for table view\n",
    "pd.set_option('display.max_rows',200)\n"
   ]
  },
  {
   "cell_type": "markdown",
   "id": "b4ffe0a8",
   "metadata": {},
   "source": [
    "### Template queries"
   ]
  },
  {
   "cell_type": "code",
   "execution_count": 21,
   "id": "33d29bb9",
   "metadata": {},
   "outputs": [],
   "source": [
    "TIME_DELTA_MINUTES = 20\n",
    "START_TIME_STRING = \"2025-08-26T09:16:15+00:00\"\n",
    "EXPERIMENT_TIME = datetime.datetime.fromisoformat(START_TIME_STRING).astimezone(datetime.UTC)\n",
    "START_WINDOW = EXPERIMENT_TIME.isoformat(timespec=\"seconds\")\n",
    "# START_WINDOW = (EXPERIMENT_TIME - datetime.timedelta(minutes=TIME_DELTA_MINUTES)).isoformat(timespec=\"seconds\")\n",
    "STOP_WINDOW = (EXPERIMENT_TIME + datetime.timedelta(minutes=TIME_DELTA_MINUTES)).isoformat(timespec=\"seconds\")\n",
    "\n",
    "START_WINDOW\n",
    "\n",
    "# Count validated\n",
    "create_pods = CREATE_PODS.format(\n",
    "    CLUSTER_NAME=TARGET_CLUSTER,\n",
    "    START_WINDOW=START_WINDOW,\n",
    "    STOP_WINDOW=STOP_WINDOW\n",
    ")\n",
    "\n",
    "# TODO: Validate detail count\n",
    "scale_up_decision = SCALE_UP_DECISION.format(\n",
    "    PROJECT_ID=PROJECT_ID,\n",
    "    CLUSTER_NAME=TARGET_CLUSTER,\n",
    "    START_WINDOW=START_WINDOW,\n",
    "    STOP_WINDOW=STOP_WINDOW\n",
    ")\n",
    "\n",
    "# TODO: Fix additional entries\n",
    "node_ready = NODE_READY.format(\n",
    "    CLUSTER_NAME=TARGET_CLUSTER,\n",
    "    START_WINDOW=START_WINDOW,\n",
    "    STOP_WINDOW=STOP_WINDOW\n",
    ")\n",
    "\n",
    "node_ready_patch = NODE_READY_PATCH.format(\n",
    "    CLUSTER_NAME=TARGET_CLUSTER,\n",
    "    START_WINDOW=START_WINDOW,\n",
    "    STOP_WINDOW=STOP_WINDOW\n",
    ")\n",
    "\n",
    "# TODO: Fix missing entries\n",
    "pod_scheduled = POD_SCHEDULED.format(\n",
    "    CLUSTER_NAME=TARGET_CLUSTER,\n",
    "    START_WINDOW=START_WINDOW,\n",
    "    STOP_WINDOW=STOP_WINDOW\n",
    ")\n",
    "\n",
    "# NOT USED\n",
    "container_started_patch = CONTAINER_STARTED_PATCH.format(\n",
    "    CLUSTER_NAME=TARGET_CLUSTER,\n",
    "    START_WINDOW=START_WINDOW,\n",
    "    STOP_WINDOW=STOP_WINDOW\n",
    ")\n",
    "\n",
    "# Count validated\n",
    "container_started = CONTAINER_STARTED.format(\n",
    "    CLUSTER_NAME=TARGET_CLUSTER,\n",
    "    START_WINDOW=START_WINDOW,\n",
    "    STOP_WINDOW=STOP_WINDOW\n",
    ")\n",
    "\n",
    "# Count validated\n",
    "delete_pods = DELETE_PODS.format(\n",
    "    CLUSTER_NAME=TARGET_CLUSTER,\n",
    "    START_WINDOW=START_WINDOW,\n",
    "    STOP_WINDOW=STOP_WINDOW\n",
    ")\n",
    "\n",
    "# TODO: Validate detail count\n",
    "scale_down_decision = SCALE_DOWN_DECISION.format(\n",
    "    PROJECT_ID=PROJECT_ID,\n",
    "    CLUSTER_NAME=TARGET_CLUSTER,\n",
    "    START_WINDOW=START_WINDOW,\n",
    "    STOP_WINDOW=STOP_WINDOW\n",
    ")\n",
    "\n",
    "# Count validated\n",
    "node_cordoned = NODE_CORDONED.format(\n",
    "    CLUSTER_NAME=TARGET_CLUSTER,\n",
    "    START_WINDOW=START_WINDOW,\n",
    "    STOP_WINDOW=STOP_WINDOW\n",
    ")\n",
    "\n",
    "# TODO: Fix extra counts\n",
    "node_not_ready = NODE_NOT_READY.format(\n",
    "CLUSTER_NAME=TARGET_CLUSTER,\n",
    "    START_WINDOW=START_WINDOW,\n",
    "    STOP_WINDOW=STOP_WINDOW\n",
    ")\n",
    "\n",
    "# Count validated\n",
    "node_deleted = NODE_DELETED.format(\n",
    "    CLUSTER_NAME=TARGET_CLUSTER,\n",
    "    START_WINDOW=START_WINDOW,\n",
    "    STOP_WINDOW=STOP_WINDOW\n",
    ")\n",
    "\n",
    "nodes_create = NODES_CREATE.format(\n",
    "    CLUSTER_NAME=TARGET_CLUSTER,\n",
    "    START_WINDOW=START_WINDOW,\n",
    "    STOP_WINDOW=STOP_WINDOW\n",
    ")\n",
    "\n",
    "nodes_delete = NODES_DELETE.format(\n",
    "    CLUSTER_NAME=TARGET_CLUSTER,\n",
    "    START_WINDOW=START_WINDOW,\n",
    "    STOP_WINDOW=STOP_WINDOW\n",
    ")\n"
   ]
  },
  {
   "cell_type": "markdown",
   "id": "9dd9a82e",
   "metadata": {},
   "source": [
    "### Query"
   ]
  },
  {
   "cell_type": "code",
   "execution_count": 44,
   "id": "05fb5aa0",
   "metadata": {},
   "outputs": [
    {
     "name": "stdout",
     "output_type": "stream",
     "text": [
      "635\n"
     ]
    }
   ],
   "source": [
    "logs = []\n",
    "\n",
    "for entry in client.list_entries(\n",
    "    filter_=node_ready_patch,\n",
    "    order_by=logging.DESCENDING,\n",
    "    max_results=1000\n",
    "): \n",
    "    logs.append(entry)    \n",
    "\n",
    "\n",
    "print(len(logs))"
   ]
  },
  {
   "cell_type": "code",
   "execution_count": 47,
   "id": "9e1b1fb8",
   "metadata": {},
   "outputs": [
    {
     "name": "stdout",
     "output_type": "stream",
     "text": [
      "635\n"
     ]
    }
   ],
   "source": [
    "data = []\n",
    "\n",
    "try:\n",
    "    for idx, log in enumerate(logs):\n",
    "        data.append(node_ready_patch_transform(log.to_api_repr()))\n",
    "except AttributeError as e:\n",
    "    print(f\"AttributeError at index {idx}\")\n",
    "    raise e\n",
    "\n",
    "df = pd.DataFrame.from_records(data)\n",
    "\n",
    "print(len(df.index))"
   ]
  },
  {
   "cell_type": "code",
   "execution_count": null,
   "id": "c7035220",
   "metadata": {},
   "outputs": [
    {
     "data": {
      "text/plain": [
       "625"
      ]
     },
     "execution_count": 49,
     "metadata": {},
     "output_type": "execute_result"
    }
   ],
   "source": []
  },
  {
   "cell_type": "code",
   "execution_count": null,
   "id": "52015737",
   "metadata": {},
   "outputs": [],
   "source": []
  }
 ],
 "metadata": {
  "kernelspec": {
   "display_name": "Python 3 (ipykernel)",
   "language": "python",
   "name": "python3"
  },
  "language_info": {
   "codemirror_mode": {
    "name": "ipython",
    "version": 3
   },
   "file_extension": ".py",
   "mimetype": "text/x-python",
   "name": "python",
   "nbconvert_exporter": "python",
   "pygments_lexer": "ipython3",
   "version": "3.13.3"
  }
 },
 "nbformat": 4,
 "nbformat_minor": 5
}

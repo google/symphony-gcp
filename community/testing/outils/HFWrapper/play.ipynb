{
 "cells": [
  {
   "cell_type": "markdown",
   "id": "5c2edd23",
   "metadata": {},
   "source": [
    "# This uses the HostFactory REST API to solicit machines"
   ]
  },
  {
   "cell_type": "code",
   "execution_count": null,
   "id": "bd4fc1bb",
   "metadata": {},
   "outputs": [],
   "source": [
    "from requests.auth import HTTPBasicAuth\n",
    "import datetime\n",
    "import json\n",
    "\n",
    "from importlib import reload\n",
    "\n",
    "import hostfactory\n",
    "# reload(hostfactory.api)\n",
    "\n",
    "from hostfactory.api import HostFactory\n",
    "from hostfactory.models import (\n",
    "    HFRequestStatus,\n",
    "    HFRequest,\n",
    "    HFRequest_demand_hosts,\n",
    "    HFDeleteRequest,\n",
    "    HFDeleteRequest_request,\n",
    "    HFRequestInstances,\n",
    "    HFDeleteRequestInstances,\n",
    "    HFCloudHosts,\n",
    "    HFDeleteCloudHosts,\n",
    "    HFCloudRequests,\n",
    "    HFServiceConfiguration\n",
    ")\n",
    "\n",
    "# egosh client view REST_HOST_FACTORY_URL\n",
    "\n",
    "auth = HTTPBasicAuth(username=\"Admin\", password=\"Admin\")\n",
    "\n",
    "hf = HostFactory(\n",
    "    base_url=\"http://127.0.0.1:9080/platform/rest/hostfactory\",\n",
    "    auth=auth,\n",
    ")\n",
    "\n",
    "pretty_print = lambda res: print(json.dumps(res.json(),indent=4))\n",
    "\n",
    "print(\n",
    "    \"Current time is:\",\n",
    "    datetime.datetime.now().astimezone(tz=datetime.timezone.utc).isoformat(timespec=\"seconds\")\n",
    ")"
   ]
  },
  {
   "cell_type": "markdown",
   "id": "bc2227b7",
   "metadata": {},
   "source": [
    "### Get templates"
   ]
  },
  {
   "cell_type": "code",
   "execution_count": null,
   "id": "1a58c894",
   "metadata": {},
   "outputs": [],
   "source": [
    "\n",
    "res = hf.get_host_templates(provider=\"gcpgkeinst\")\n",
    "print(res.text)\n",
    "\n"
   ]
  },
  {
   "cell_type": "markdown",
   "id": "1ff6056d",
   "metadata": {},
   "source": [
    "### Upgrade batch limits to max"
   ]
  },
  {
   "cell_type": "code",
   "execution_count": null,
   "id": "53624255",
   "metadata": {},
   "outputs": [],
   "source": [
    "res = hf.put_service_configuration(\n",
    "data = HFServiceConfiguration(\n",
    "    HF_DEMAND_BATCH_LIMIT=1500,\n",
    "    HF_RETURN_BATCH_LIMIT=1500\n",
    "))\n",
    "\n",
    "assert res.ok, res.text\n",
    "\n",
    "res = hf.get_service_configuration()\n",
    "pretty_print(res)"
   ]
  },
  {
   "cell_type": "markdown",
   "id": "12acf770",
   "metadata": {},
   "source": [
    "### Create a new request"
   ]
  },
  {
   "cell_type": "code",
   "execution_count": null,
   "id": "f6e49e41",
   "metadata": {},
   "outputs": [],
   "source": [
    "TEST_ID = \"test-fail-2\"\n",
    "\n",
    "# template_name=\"template-gcp-local-ccc\"\n",
    "# template_name=\"template-fail\"\n",
    "\n",
    "request = HFRequest(\n",
    "    request_name=TEST_ID,\n",
    "    demand_hosts=[\n",
    "        HFRequest_demand_hosts(\n",
    "            prov_name=\"gcpgkeinst\", template_name=\"template-failrandom\", ninstances=10,\n",
    "        ),\n",
    "        # HFRequest_demand_hosts(\n",
    "        #     prov_name=\"gcpgkeinst\", template_name=\"template-gcp-local-ccc\", ninstances=1,\n",
    "        # ),\n",
    "    ],\n",
    ")\n",
    "\n",
    "request_response = hf.post_request(requestor=\"admin\", data=request)\n",
    "request_time = datetime.datetime.now().astimezone(tz=datetime.timezone.utc).isoformat(timespec=\"seconds\")\n",
    "\n",
    "assert request_response.ok, \"Request failed...\"\n",
    "\n",
    "print(\n",
    "    \"Request time is:\",\n",
    "    request_time\n",
    ")\n",
    "\n",
    "request_response.json()\n",
    "scheduledRequestId=request_response.json()[\"scheduled_request_id\"][0]"
   ]
  },
  {
   "cell_type": "code",
   "execution_count": null,
   "id": "7923dd05",
   "metadata": {},
   "outputs": [],
   "source": [
    "request_response.json()"
   ]
  },
  {
   "cell_type": "markdown",
   "id": "8d7007cb",
   "metadata": {},
   "source": [
    "### Get the request status"
   ]
  },
  {
   "cell_type": "code",
   "execution_count": null,
   "id": "464ec9ed",
   "metadata": {},
   "outputs": [],
   "source": [
    "request_instance = hf.get_request_instances(\n",
    "    params=HFRequestInstances(\n",
    "        scheduledRequestId=scheduledRequestId\n",
    "    )\n",
    ")\n",
    "\n",
    "requestId = request_instance.json()[\"rows\"][0][\"requestId\"]\n",
    "\n",
    "request_instance.json()"
   ]
  },
  {
   "cell_type": "code",
   "execution_count": null,
   "id": "1ab910d0",
   "metadata": {},
   "outputs": [],
   "source": [
    "cloud_hosts = hf.get_all_cloud_hosts(\n",
    "    requestId=requestId\n",
    ")\n",
    "\n",
    "cloud_hosts.head()\n"
   ]
  },
  {
   "cell_type": "code",
   "execution_count": null,
   "id": "7cd738b2",
   "metadata": {},
   "outputs": [],
   "source": [
    "cloud_requests = hf.get_cloud_requests(\n",
    "    params = HFCloudRequests(\n",
    "        requestId = requestId,\n",
    "    )\n",
    ")\n",
    "\n",
    "cloud_requests.json()"
   ]
  },
  {
   "cell_type": "markdown",
   "id": "4665e316",
   "metadata": {},
   "source": [
    "### Close the request"
   ]
  },
  {
   "cell_type": "code",
   "execution_count": null,
   "id": "3158685b",
   "metadata": {},
   "outputs": [],
   "source": [
    "delete_scheduled_requests = hf.delete_scheduled_requests(\n",
    "    data=HFDeleteRequest(\n",
    "        [\n",
    "            HFDeleteRequest_request(\n",
    "                # id=request_id,\n",
    "                id=request_response.json()[\"scheduled_request_id\"][0],\n",
    "                close_instances=True,\n",
    "            )\n",
    "        ]\n",
    "    )\n",
    ")\n",
    "\n",
    "delete_time = datetime.datetime.now().astimezone(tz=datetime.timezone.utc).isoformat(timespec=\"seconds\")\n",
    "\n",
    "assert delete_scheduled_requests.ok, \"Failed to delete scheduled request\"\n",
    "\n",
    "print(f\"Delete time: {delete_time}\")\n"
   ]
  },
  {
   "cell_type": "markdown",
   "id": "d4d4f217",
   "metadata": {},
   "source": [
    "### Query active scheduled requests"
   ]
  },
  {
   "cell_type": "code",
   "execution_count": null,
   "id": "4318d1ad",
   "metadata": {},
   "outputs": [],
   "source": [
    "res = hf.get_scheduled_requests(\n",
    "    HFRequestStatus(\n",
    "        status=\"Active\"\n",
    "    )\n",
    ")\n",
    "scheduled_requests = res.json()\n",
    "for row in res.json()[\"rows\"]:\n",
    "    print(\"===============================================================\")\n",
    "    print(\"Request ID:\", row[\"requestId\"])\n",
    "    print(\"Request name:\", row[\"requestName\"])\n",
    "    print(\"Create time:\", datetime.datetime.fromtimestamp(row[\"createTime\"]))\n",
    "    print(\"Template:\", row[\"templateOrUnit\"])\n",
    "    print(\"Quantity:\", row[\"templateOrUnitQuantity\"])\n"
   ]
  },
  {
   "cell_type": "markdown",
   "id": "e7eb47c8",
   "metadata": {},
   "source": [
    "### Query arbitrary scheduled request id"
   ]
  },
  {
   "cell_type": "code",
   "execution_count": null,
   "id": "2ebcc309",
   "metadata": {},
   "outputs": [],
   "source": [
    "scheduled_request_id = \"SD-28e6ec54-c4e6-495d-a8ea-d4ea668787b5\""
   ]
  },
  {
   "cell_type": "code",
   "execution_count": null,
   "id": "3c21bf37",
   "metadata": {},
   "outputs": [],
   "source": [
    "\n",
    "request_instances = hf.get_request_instances(\n",
    "    params=HFRequestInstances(\n",
    "        scheduledRequestId=scheduled_request_id\n",
    "    )\n",
    ")\n",
    "\n",
    "scheduled_request = hf.get_scheduled_requests(\n",
    "    HFRequestStatus(\n",
    "        requestId=scheduled_request_id\n",
    "    )\n",
    ")\n",
    "\n",
    "request_id = request_instances.json()[\"rows\"][0][\"requestId\"]\n",
    "\n",
    "cloud_requests = hf.get_cloud_requests(\n",
    "    params=HFCloudRequests(\n",
    "        requestId=request_id\n",
    "    )\n",
    ")\n",
    "\n",
    "\n",
    "pretty_print(request_instances)\n",
    "pretty_print(scheduled_request)\n",
    "pretty_print(cloud_requests)"
   ]
  },
  {
   "cell_type": "code",
   "execution_count": null,
   "id": "3f37f0e9",
   "metadata": {},
   "outputs": [],
   "source": [
    "\n",
    "cloud_hosts = hf.get_all_cloud_hosts(\n",
    "    requestId=request_id\n",
    ")\n",
    "\n",
    "cloud_hosts.head()\n"
   ]
  },
  {
   "cell_type": "code",
   "execution_count": null,
   "id": "225f8f83",
   "metadata": {},
   "outputs": [],
   "source": [
    "cloud_hosts.releaseTime.hist()"
   ]
  },
  {
   "cell_type": "code",
   "execution_count": null,
   "id": "1427829a",
   "metadata": {},
   "outputs": [],
   "source": [
    "import os\n",
    "from pathlib import Path\n",
    "\n",
    "DATA_FOLDER = Path(os.getenv(\"WORKDIR\")).joinpath(\"data\")\n",
    "test_folder = DATA_FOLDER.joinpath(TEST_ID)\n",
    "\n",
    "if not os.path.isdir(test_folder):\n",
    "    os.mkdir(test_folder)\n",
    "\n",
    "with open(test_folder.joinpath(\"request_instances.json\"), \"w\") as fh:\n",
    "    json.dump(request_instances.json(), fh, indent=4)\n",
    "\n",
    "with open(test_folder.joinpath(\"scheduled_request.json\"), \"w\") as fh:\n",
    "    json.dump(scheduled_request.json(), fh, indent=4)\n",
    "\n",
    "with open(test_folder.joinpath(\"cloud_requests.json\"), \"w\") as fh:\n",
    "    json.dump(cloud_requests.json(), fh, indent=4)\n",
    "\n",
    "cloud_hosts.to_csv(test_folder.joinpath(\"cloud_hosts.csv\"))\n",
    "\n"
   ]
  },
  {
   "cell_type": "markdown",
   "id": "938e7233",
   "metadata": {},
   "source": [
    "### Delete said arbitrary scheduled request"
   ]
  },
  {
   "cell_type": "code",
   "execution_count": null,
   "id": "a1015a2e",
   "metadata": {},
   "outputs": [],
   "source": [
    "delete_scheduled_requests = hf.delete_scheduled_requests(\n",
    "    data=HFDeleteRequest(\n",
    "        [\n",
    "            HFDeleteRequest_request(\n",
    "                id=scheduled_request_id,\n",
    "                close_instances=True,\n",
    "            )\n",
    "        ]\n",
    "    )\n",
    ")\n",
    "delete_time = datetime.datetime.now().astimezone(tz=datetime.timezone.utc).isoformat(timespec=\"seconds\")\n",
    "\n",
    "assert delete_scheduled_requests.ok, \"Failed to delete scheduled request\"\n",
    "\n",
    "print(f\"Delete time: {delete_time}\")"
   ]
  },
  {
   "cell_type": "markdown",
   "id": "532a8ce2",
   "metadata": {},
   "source": [
    "### Query arbitrary request id"
   ]
  },
  {
   "cell_type": "code",
   "execution_count": null,
   "id": "5aea851f",
   "metadata": {},
   "outputs": [],
   "source": [
    "request_id = \"d-1b0d7330-9e7d-4c8f-8bdf-ab332f13473b\"\n",
    "\n",
    "cloud_requests = hf.get_cloud_requests(\n",
    "    params=HFCloudRequests(\n",
    "        requestId=request_id\n",
    "    )\n",
    ")\n",
    "\n",
    "cloud_hosts = hf.get_cloud_hosts(\n",
    "    params=HFCloudRequests(\n",
    "        requestId=request_id\n",
    "    )\n",
    ")\n",
    "\n",
    "pretty_print(cloud_requests)\n",
    "pretty_print(cloud_hosts)"
   ]
  }
 ],
 "metadata": {
  "kernelspec": {
   "display_name": "HFWrapper",
   "language": "python",
   "name": "python3"
  },
  "language_info": {
   "codemirror_mode": {
    "name": "ipython",
    "version": 3
   },
   "file_extension": ".py",
   "mimetype": "text/x-python",
   "name": "python",
   "nbconvert_exporter": "python",
   "pygments_lexer": "ipython3",
   "version": "3.9.22"
  }
 },
 "nbformat": 4,
 "nbformat_minor": 5
}
